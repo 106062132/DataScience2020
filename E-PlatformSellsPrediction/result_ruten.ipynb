{
 "cells": [
  {
   "cell_type": "code",
   "execution_count": 1,
   "metadata": {},
   "outputs": [],
   "source": [
    "import pandas as pd \n",
    "df_shopee = pd.read_csv('clothes_ruten/露天外套女.csv',index_col=0)  "
   ]
  },
  {
   "cell_type": "code",
   "execution_count": 2,
   "metadata": {},
   "outputs": [],
   "source": [
    "#將csv data存到txt\n",
    "f = open('shopee.txt','w')\n",
    "for item in df_shopee['item']:\n",
    "    print(item, file = f)\n",
    "f.close()"
   ]
  },
  {
   "cell_type": "code",
   "execution_count": 3,
   "metadata": {},
   "outputs": [],
   "source": [
    "def get_TF(words, topK=10): \n",
    "    tf_dic = {} \n",
    "    for w in words: \n",
    "        tf_dic[w] = tf_dic.get(w, 0) + 1 \n",
    "    return sorted(tf_dic.items(), key = lambda x: x[1], reverse=True)[:topK]"
   ]
  },
  {
   "cell_type": "code",
   "execution_count": 4,
   "metadata": {},
   "outputs": [],
   "source": [
    "def get_content(path):\n",
    "    with open(path, 'r', encoding='utf-8', errors='ignore') as f: \n",
    "        content = '' \n",
    "        for l in f:\n",
    "            l = l.strip() \n",
    "            content += l \n",
    "    return content"
   ]
  },
  {
   "cell_type": "code",
   "execution_count": 5,
   "metadata": {},
   "outputs": [],
   "source": [
    "stop_words = []\n",
    "stop_words.append(' ')\n",
    "stop_words.append('【')\n",
    "stop_words.append('】')\n",
    "stop_words.append('-')\n",
    "stop_words.append('╯')\n",
    "stop_words.append('❤')\n",
    "stop_words.append('♡')\n",
    "stop_words.append('(')\n",
    "stop_words.append('！')\n",
    "stop_words.append(')')\n",
    "stop_words.append('~')\n",
    "stop_words.append('📣')\n",
    "stop_words.append('👗')\n",
    "stop_words.append('/')\n",
    "stop_words.append('*')\n",
    "stop_words.append('☆')\n",
    "stop_words.append('.')\n",
    "stop_words.append('♥')\n",
    "stop_words.append('★')\n",
    "stop_words.append('+')\n",
    "stop_words.append('》')\n",
    "stop_words.append('[')\n",
    "stop_words.append(']')\n",
    "stop_words.append('Ω')\n",
    "stop_words.append('《')\n",
    "stop_words.append('、')\n",
    "stop_words.append('§')\n",
    "stop_words.append('🔥')\n",
    "stop_words.append('💥')\n",
    "stop_words.append('🎀')\n",
    "stop_words.append('!')\n",
    "stop_words.append('^')\n",
    "stop_words.append('💖')\n",
    "stop_words.append('≡')\n",
    "stop_words.append(',')\n",
    "stop_words.append('_')\n",
    "stop_words.append('＊')\n",
    "stop_words.append('&')\n",
    "stop_words.append('~')\n",
    "stop_words.append('#')\n",
    "stop_words.append('～')\n",
    "stop_words.append('，')\n",
    "stop_words.append(':')\n",
    "stop_words.append('◎')\n",
    "stop_words.append('』')\n",
    "stop_words.append('『')\n",
    "stop_words.append('|')\n",
    "stop_words.append('@')\n",
    "stop_words.append('├')\n",
    "stop_words.append('．')\n",
    "stop_words.append('.....')\n",
    "stop_words.append('=')"
   ]
  },
  {
   "cell_type": "code",
   "execution_count": 6,
   "metadata": {},
   "outputs": [
    {
     "name": "stderr",
     "output_type": "stream",
     "text": [
      "Building prefix dict from the default dictionary ...\n",
      "Loading model from cache /var/folders/tz/dqn0619n7v925j6hb3s0whvm0000gn/T/jieba.cache\n",
      "Loading model cost 0.836 seconds.\n",
      "Prefix dict has been built successfully.\n"
     ]
    }
   ],
   "source": [
    "import glob \n",
    "import jieba \n",
    "files = 'shopee.txt'\n",
    "corpus = [get_content(files)]\n",
    "split_words = [x for x in jieba.cut(corpus[0]) if x not in stop_words]"
   ]
  },
  {
   "cell_type": "code",
   "execution_count": 7,
   "metadata": {},
   "outputs": [
    {
     "name": "stdout",
     "output_type": "stream",
     "text": [
      "樣本的topK(10)詞：[('外套', 5924), ('男女', 1353), ('連帽', 1042), ('女', 657), ('風衣', 614), ('款', 604), ('新款', 598), ('長', 541), ('夾克', 541), ('韓版', 515), ('運動', 496), ('袖', 451), ('防風', 451), ('情侶', 436), ('保暖', 419), ('休閒', 396), ('秋冬', 374), ('衛衣', 362), ('T', 355), ('加厚', 354), ('寬', 349), ('女裝', 342), ('鬆', 341), ('修身', 326), ('薄', 319), ('衣服', 309), ('棒球', 307), ('上衣', 299), ('愛迪達', 296), ('防曬', 294), ('開衫', 288), ('小', 281), ('女款', 269), ('男', 264), ('中長', 244), ('大衣', 234), ('女生', 232), ('現貨', 226), ('羽絨', 226), ('女童', 216), ('牛仔', 209), ('色', 205), ('防水', 204), ('短款', 204), ('免運', 201), ('加絨', 200), ('透氣', 192), ('衣', 192), ('裝', 191), ('碼', 190), ('Adidas', 187), ('背心', 184), ('帽', 182), ('春秋', 178), ('可', 175), ('套裝', 174), ('薄款', 170), ('衫', 161), ('搭', 160), ('刷毛', 159), ('風', 153), ('學生', 151), ('大', 148), ('穿', 148), ('毛衣', 140), ('披肩', 137), ('版', 136), ('二次元', 136), ('周邊', 136), ('2', 135), ('純棉', 134), ('服', 133), ('襯衫', 133), ('夏季', 131), ('衝鋒衣', 129), ('冬季', 129), ('防曬衣', 128), ('日系', 127), ('大碼', 124), ('復', 123), ('顯瘦', 121), ('針織', 121), ('NBA', 121), ('戶外', 121), ('球衣', 120), ('籃球', 120), ('舖', 120), ('同款', 116), ('大尺', 115), ('時尚', 115), ('動漫', 115), ('棉衣', 114), ('少女', 114), ('式', 113), ('2019', 110), ('鍊', 110), ('罩衫', 105), ('S', 104), ('印花', 102), ('外', 102)]\n"
     ]
    }
   ],
   "source": [
    "print('樣本的topK(10)詞：'+str(get_TF(split_words,100)))"
   ]
  },
  {
   "cell_type": "code",
   "execution_count": 8,
   "metadata": {},
   "outputs": [],
   "source": [
    "frequent_array = get_TF(split_words,100)\n",
    "score = [0]*len(df_shopee['item'])\n",
    "index = 0\n",
    "for item in df_shopee['item']:\n",
    "    for i in range(len(frequent_array)):\n",
    "        if (frequent_array[i][0]) in str(item):\n",
    "            score[index] += frequent_array[i][1]\n",
    "    index += 1\n",
    "df_shopee['item'] = score"
   ]
  },
  {
   "cell_type": "code",
   "execution_count": 9,
   "metadata": {},
   "outputs": [],
   "source": [
    "price_array = df_shopee['price']\n",
    "price_array = list(map(str, price_array))\n",
    "price_array_2 = ['0'] * len(price_array)\n",
    "index_i = 0\n",
    "for item in price_array:\n",
    "    if('-' in item):\n",
    "        index_j = str.index(item,'-')\n",
    "        price_array_2[index_i] = item[-index_j:]\n",
    "    else:\n",
    "        price_array_2[index_i] = item\n",
    "    index_i += 1\n",
    "index_i = 0\n",
    "for item in price_array_2:\n",
    "    price_array_2[index_i] = str.replace(item,\"$\",\"\")\n",
    "    price_array_2[index_i] = str.replace(price_array_2[index_i],\",\",\"\")\n",
    "    index_i += 1\n",
    "df_shopee['price'] = price_array_2"
   ]
  },
  {
   "cell_type": "code",
   "execution_count": 10,
   "metadata": {},
   "outputs": [],
   "source": [
    "a = df_shopee['price']\n",
    "a = list(map(float,a))\n",
    "a = list(map(int,a))\n",
    "df_shopee['price'] = a"
   ]
  },
  {
   "cell_type": "code",
   "execution_count": 11,
   "metadata": {},
   "outputs": [],
   "source": [
    "df_shopee = df_shopee.drop(df_shopee[df_shopee.price > 2000].index)\n",
    "df_shopee = df_shopee.drop(df_shopee[df_shopee.num_sold > 5000].index)"
   ]
  },
  {
   "cell_type": "code",
   "execution_count": 12,
   "metadata": {},
   "outputs": [
    {
     "data": {
      "text/html": [
       "<div>\n",
       "<style scoped>\n",
       "    .dataframe tbody tr th:only-of-type {\n",
       "        vertical-align: middle;\n",
       "    }\n",
       "\n",
       "    .dataframe tbody tr th {\n",
       "        vertical-align: top;\n",
       "    }\n",
       "\n",
       "    .dataframe thead th {\n",
       "        text-align: right;\n",
       "    }\n",
       "</style>\n",
       "<table border=\"1\" class=\"dataframe\">\n",
       "  <thead>\n",
       "    <tr style=\"text-align: right;\">\n",
       "      <th></th>\n",
       "      <th>item</th>\n",
       "      <th>rate</th>\n",
       "      <th>num_product</th>\n",
       "      <th>num_sold</th>\n",
       "      <th>price</th>\n",
       "    </tr>\n",
       "  </thead>\n",
       "  <tbody>\n",
       "    <tr>\n",
       "      <th>count</th>\n",
       "      <td>3423.000000</td>\n",
       "      <td>3423.000000</td>\n",
       "      <td>3.423000e+03</td>\n",
       "      <td>3423.000000</td>\n",
       "      <td>3423.000000</td>\n",
       "    </tr>\n",
       "    <tr>\n",
       "      <th>mean</th>\n",
       "      <td>10190.809232</td>\n",
       "      <td>3863.153082</td>\n",
       "      <td>4.187469e+04</td>\n",
       "      <td>23.995326</td>\n",
       "      <td>713.886941</td>\n",
       "    </tr>\n",
       "    <tr>\n",
       "      <th>std</th>\n",
       "      <td>2595.353368</td>\n",
       "      <td>9120.421765</td>\n",
       "      <td>1.167987e+05</td>\n",
       "      <td>162.475135</td>\n",
       "      <td>419.858877</td>\n",
       "    </tr>\n",
       "    <tr>\n",
       "      <th>min</th>\n",
       "      <td>0.000000</td>\n",
       "      <td>0.000000</td>\n",
       "      <td>0.000000e+00</td>\n",
       "      <td>1.000000</td>\n",
       "      <td>0.000000</td>\n",
       "    </tr>\n",
       "    <tr>\n",
       "      <th>25%</th>\n",
       "      <td>9212.500000</td>\n",
       "      <td>242.000000</td>\n",
       "      <td>5.465000e+02</td>\n",
       "      <td>1.000000</td>\n",
       "      <td>398.000000</td>\n",
       "    </tr>\n",
       "    <tr>\n",
       "      <th>50%</th>\n",
       "      <td>10509.000000</td>\n",
       "      <td>1110.000000</td>\n",
       "      <td>1.797000e+03</td>\n",
       "      <td>2.000000</td>\n",
       "      <td>629.000000</td>\n",
       "    </tr>\n",
       "    <tr>\n",
       "      <th>75%</th>\n",
       "      <td>11733.500000</td>\n",
       "      <td>3983.000000</td>\n",
       "      <td>1.967500e+04</td>\n",
       "      <td>5.000000</td>\n",
       "      <td>900.000000</td>\n",
       "    </tr>\n",
       "    <tr>\n",
       "      <th>max</th>\n",
       "      <td>16630.000000</td>\n",
       "      <td>229877.000000</td>\n",
       "      <td>1.434136e+06</td>\n",
       "      <td>4575.000000</td>\n",
       "      <td>2000.000000</td>\n",
       "    </tr>\n",
       "  </tbody>\n",
       "</table>\n",
       "</div>"
      ],
      "text/plain": [
       "               item           rate   num_product     num_sold        price\n",
       "count   3423.000000    3423.000000  3.423000e+03  3423.000000  3423.000000\n",
       "mean   10190.809232    3863.153082  4.187469e+04    23.995326   713.886941\n",
       "std     2595.353368    9120.421765  1.167987e+05   162.475135   419.858877\n",
       "min        0.000000       0.000000  0.000000e+00     1.000000     0.000000\n",
       "25%     9212.500000     242.000000  5.465000e+02     1.000000   398.000000\n",
       "50%    10509.000000    1110.000000  1.797000e+03     2.000000   629.000000\n",
       "75%    11733.500000    3983.000000  1.967500e+04     5.000000   900.000000\n",
       "max    16630.000000  229877.000000  1.434136e+06  4575.000000  2000.000000"
      ]
     },
     "execution_count": 12,
     "metadata": {},
     "output_type": "execute_result"
    }
   ],
   "source": [
    "df_shopee.describe()"
   ]
  },
  {
   "cell_type": "code",
   "execution_count": 13,
   "metadata": {},
   "outputs": [
    {
     "name": "stdout",
     "output_type": "stream",
     "text": [
      "0.004371584699453552\n",
      "4575\n",
      "16630\n"
     ]
    }
   ],
   "source": [
    "result_baseline = 20/df_shopee['num_sold'].max()\n",
    "num_sold_max = df_shopee['num_sold'].max()\n",
    "item_max = df_shopee['item'].max()\n",
    "print(result_baseline)\n",
    "print(num_sold_max)\n",
    "print(item_max)"
   ]
  },
  {
   "cell_type": "code",
   "execution_count": 14,
   "metadata": {},
   "outputs": [],
   "source": [
    "from sklearn.preprocessing import MinMaxScaler\n",
    "sc = MinMaxScaler()\n",
    "sc.fit(df_shopee)\n",
    "df_shopee = pd.DataFrame(sc.transform(df_shopee), index=df_shopee.index, columns=df_shopee.columns)"
   ]
  },
  {
   "cell_type": "code",
   "execution_count": 15,
   "metadata": {},
   "outputs": [
    {
     "name": "stdout",
     "output_type": "stream",
     "text": [
      "0.572699939867709\n"
     ]
    }
   ],
   "source": [
    "score = 0\n",
    "title_a = '外套男女連帽女'\n",
    "for i in range(len(frequent_array)):\n",
    "        if (frequent_array[i][0]) in title_a:\n",
    "            score+= frequent_array[i][1]\n",
    "score/=item_max\n",
    "print(score)\n",
    "import numpy as np\n",
    "x_final = np.array([[score,df_shopee['rate'].mean(),\n",
    "df_shopee['num_product'].mean(),\n",
    "df_shopee['price'].mean()]])"
   ]
  },
  {
   "cell_type": "code",
   "execution_count": 16,
   "metadata": {},
   "outputs": [
    {
     "data": {
      "text/html": [
       "<div>\n",
       "<style scoped>\n",
       "    .dataframe tbody tr th:only-of-type {\n",
       "        vertical-align: middle;\n",
       "    }\n",
       "\n",
       "    .dataframe tbody tr th {\n",
       "        vertical-align: top;\n",
       "    }\n",
       "\n",
       "    .dataframe thead th {\n",
       "        text-align: right;\n",
       "    }\n",
       "</style>\n",
       "<table border=\"1\" class=\"dataframe\">\n",
       "  <thead>\n",
       "    <tr style=\"text-align: right;\">\n",
       "      <th></th>\n",
       "      <th>item</th>\n",
       "      <th>rate</th>\n",
       "      <th>num_product</th>\n",
       "      <th>num_sold</th>\n",
       "      <th>price</th>\n",
       "    </tr>\n",
       "  </thead>\n",
       "  <tbody>\n",
       "    <tr>\n",
       "      <th>count</th>\n",
       "      <td>3423.000000</td>\n",
       "      <td>3423.000000</td>\n",
       "      <td>3423.000000</td>\n",
       "      <td>3423.000000</td>\n",
       "      <td>3423.000000</td>\n",
       "    </tr>\n",
       "    <tr>\n",
       "      <th>mean</th>\n",
       "      <td>0.612797</td>\n",
       "      <td>0.016805</td>\n",
       "      <td>0.029199</td>\n",
       "      <td>0.005027</td>\n",
       "      <td>0.356943</td>\n",
       "    </tr>\n",
       "    <tr>\n",
       "      <th>std</th>\n",
       "      <td>0.156065</td>\n",
       "      <td>0.039675</td>\n",
       "      <td>0.081442</td>\n",
       "      <td>0.035521</td>\n",
       "      <td>0.209929</td>\n",
       "    </tr>\n",
       "    <tr>\n",
       "      <th>min</th>\n",
       "      <td>0.000000</td>\n",
       "      <td>0.000000</td>\n",
       "      <td>0.000000</td>\n",
       "      <td>0.000000</td>\n",
       "      <td>0.000000</td>\n",
       "    </tr>\n",
       "    <tr>\n",
       "      <th>25%</th>\n",
       "      <td>0.553969</td>\n",
       "      <td>0.001053</td>\n",
       "      <td>0.000381</td>\n",
       "      <td>0.000000</td>\n",
       "      <td>0.199000</td>\n",
       "    </tr>\n",
       "    <tr>\n",
       "      <th>50%</th>\n",
       "      <td>0.631930</td>\n",
       "      <td>0.004829</td>\n",
       "      <td>0.001253</td>\n",
       "      <td>0.000219</td>\n",
       "      <td>0.314500</td>\n",
       "    </tr>\n",
       "    <tr>\n",
       "      <th>75%</th>\n",
       "      <td>0.705562</td>\n",
       "      <td>0.017327</td>\n",
       "      <td>0.013719</td>\n",
       "      <td>0.000875</td>\n",
       "      <td>0.450000</td>\n",
       "    </tr>\n",
       "    <tr>\n",
       "      <th>max</th>\n",
       "      <td>1.000000</td>\n",
       "      <td>1.000000</td>\n",
       "      <td>1.000000</td>\n",
       "      <td>1.000000</td>\n",
       "      <td>1.000000</td>\n",
       "    </tr>\n",
       "  </tbody>\n",
       "</table>\n",
       "</div>"
      ],
      "text/plain": [
       "              item         rate  num_product     num_sold        price\n",
       "count  3423.000000  3423.000000  3423.000000  3423.000000  3423.000000\n",
       "mean      0.612797     0.016805     0.029199     0.005027     0.356943\n",
       "std       0.156065     0.039675     0.081442     0.035521     0.209929\n",
       "min       0.000000     0.000000     0.000000     0.000000     0.000000\n",
       "25%       0.553969     0.001053     0.000381     0.000000     0.199000\n",
       "50%       0.631930     0.004829     0.001253     0.000219     0.314500\n",
       "75%       0.705562     0.017327     0.013719     0.000875     0.450000\n",
       "max       1.000000     1.000000     1.000000     1.000000     1.000000"
      ]
     },
     "execution_count": 16,
     "metadata": {},
     "output_type": "execute_result"
    }
   ],
   "source": [
    "df_shopee.describe()"
   ]
  },
  {
   "cell_type": "code",
   "execution_count": 17,
   "metadata": {},
   "outputs": [
    {
     "data": {
      "text/plain": [
       "3223"
      ]
     },
     "execution_count": 17,
     "metadata": {},
     "output_type": "execute_result"
    }
   ],
   "source": [
    "len_data = len(df_shopee)-200\n",
    "len_data"
   ]
  },
  {
   "cell_type": "code",
   "execution_count": 46,
   "metadata": {},
   "outputs": [],
   "source": [
    "df = df_shopee\n",
    "from sklearn.utils import shuffle\n",
    "df = shuffle(df)"
   ]
  },
  {
   "cell_type": "code",
   "execution_count": 47,
   "metadata": {},
   "outputs": [],
   "source": [
    "from sklearn.model_selection import train_test_split\n",
    "X_train, X_test, y_train, y_test = train_test_split(\n",
    "    df.drop(columns = ['num_sold']).values[0:len_data],\n",
    "    df['num_sold'].values[0:len_data], test_size=0.5)\n",
    "X_ans = df.drop(columns = ['num_sold']).values[len_data:]"
   ]
  },
  {
   "cell_type": "code",
   "execution_count": 48,
   "metadata": {},
   "outputs": [
    {
     "name": "stdout",
     "output_type": "stream",
     "text": [
      "[0]\ttrain-logloss:0.68344\tvalid-logloss:0.68342\n",
      "Multiple eval metrics have been passed: 'valid-logloss' will be used for early stopping.\n",
      "\n",
      "Will train until valid-logloss hasn't improved in 100 rounds.\n",
      "[10]\ttrain-logloss:0.59610\tvalid-logloss:0.59585\n",
      "[20]\ttrain-logloss:0.52336\tvalid-logloss:0.52291\n",
      "[30]\ttrain-logloss:0.46201\tvalid-logloss:0.46136\n",
      "[40]\ttrain-logloss:0.40971\tvalid-logloss:0.40887\n",
      "[50]\ttrain-logloss:0.36477\tvalid-logloss:0.36376\n",
      "[60]\ttrain-logloss:0.32589\tvalid-logloss:0.32471\n",
      "[70]\ttrain-logloss:0.29204\tvalid-logloss:0.29072\n",
      "[80]\ttrain-logloss:0.26244\tvalid-logloss:0.26099\n",
      "[90]\ttrain-logloss:0.23647\tvalid-logloss:0.23489\n",
      "[100]\ttrain-logloss:0.21360\tvalid-logloss:0.21190\n",
      "[110]\ttrain-logloss:0.19341\tvalid-logloss:0.19159\n",
      "[120]\ttrain-logloss:0.17555\tvalid-logloss:0.17360\n",
      "[130]\ttrain-logloss:0.15970\tvalid-logloss:0.15765\n",
      "[140]\ttrain-logloss:0.14556\tvalid-logloss:0.14356\n",
      "[150]\ttrain-logloss:0.13294\tvalid-logloss:0.13101\n",
      "[160]\ttrain-logloss:0.12168\tvalid-logloss:0.11981\n",
      "[170]\ttrain-logloss:0.11162\tvalid-logloss:0.10983\n",
      "[180]\ttrain-logloss:0.10264\tvalid-logloss:0.10092\n",
      "[190]\ttrain-logloss:0.09461\tvalid-logloss:0.09293\n",
      "[200]\ttrain-logloss:0.08742\tvalid-logloss:0.08577\n",
      "[210]\ttrain-logloss:0.08096\tvalid-logloss:0.07932\n",
      "[220]\ttrain-logloss:0.07518\tvalid-logloss:0.07355\n",
      "[230]\ttrain-logloss:0.06999\tvalid-logloss:0.06838\n",
      "[240]\ttrain-logloss:0.06533\tvalid-logloss:0.06373\n",
      "[250]\ttrain-logloss:0.06115\tvalid-logloss:0.05956\n",
      "[260]\ttrain-logloss:0.05738\tvalid-logloss:0.05581\n",
      "[270]\ttrain-logloss:0.05399\tvalid-logloss:0.05246\n",
      "[280]\ttrain-logloss:0.05096\tvalid-logloss:0.04945\n",
      "[290]\ttrain-logloss:0.04823\tvalid-logloss:0.04676\n",
      "[300]\ttrain-logloss:0.04579\tvalid-logloss:0.04434\n",
      "[310]\ttrain-logloss:0.04357\tvalid-logloss:0.04216\n",
      "[320]\ttrain-logloss:0.04158\tvalid-logloss:0.04019\n",
      "[330]\ttrain-logloss:0.03978\tvalid-logloss:0.03842\n",
      "[340]\ttrain-logloss:0.03816\tvalid-logloss:0.03683\n",
      "[350]\ttrain-logloss:0.03671\tvalid-logloss:0.03542\n",
      "[360]\ttrain-logloss:0.03541\tvalid-logloss:0.03416\n",
      "[370]\ttrain-logloss:0.03424\tvalid-logloss:0.03304\n",
      "[380]\ttrain-logloss:0.03319\tvalid-logloss:0.03204\n",
      "[390]\ttrain-logloss:0.03222\tvalid-logloss:0.03112\n",
      "[400]\ttrain-logloss:0.03134\tvalid-logloss:0.03029\n",
      "[410]\ttrain-logloss:0.03055\tvalid-logloss:0.02954\n",
      "[420]\ttrain-logloss:0.02983\tvalid-logloss:0.02887\n",
      "[430]\ttrain-logloss:0.02918\tvalid-logloss:0.02827\n",
      "[440]\ttrain-logloss:0.02860\tvalid-logloss:0.02774\n",
      "[450]\ttrain-logloss:0.02808\tvalid-logloss:0.02727\n",
      "[460]\ttrain-logloss:0.02762\tvalid-logloss:0.02685\n",
      "[470]\ttrain-logloss:0.02720\tvalid-logloss:0.02648\n",
      "[480]\ttrain-logloss:0.02682\tvalid-logloss:0.02614\n",
      "[490]\ttrain-logloss:0.02647\tvalid-logloss:0.02585\n",
      "[500]\ttrain-logloss:0.02615\tvalid-logloss:0.02560\n",
      "[510]\ttrain-logloss:0.02585\tvalid-logloss:0.02537\n",
      "[520]\ttrain-logloss:0.02558\tvalid-logloss:0.02517\n",
      "[530]\ttrain-logloss:0.02533\tvalid-logloss:0.02498\n",
      "[540]\ttrain-logloss:0.02511\tvalid-logloss:0.02482\n",
      "[550]\ttrain-logloss:0.02491\tvalid-logloss:0.02467\n",
      "[560]\ttrain-logloss:0.02472\tvalid-logloss:0.02454\n",
      "[570]\ttrain-logloss:0.02454\tvalid-logloss:0.02443\n",
      "[580]\ttrain-logloss:0.02438\tvalid-logloss:0.02433\n",
      "[590]\ttrain-logloss:0.02422\tvalid-logloss:0.02423\n",
      "[600]\ttrain-logloss:0.02408\tvalid-logloss:0.02414\n",
      "[610]\ttrain-logloss:0.02394\tvalid-logloss:0.02405\n",
      "[620]\ttrain-logloss:0.02382\tvalid-logloss:0.02397\n",
      "[630]\ttrain-logloss:0.02370\tvalid-logloss:0.02390\n",
      "[640]\ttrain-logloss:0.02360\tvalid-logloss:0.02384\n",
      "[650]\ttrain-logloss:0.02349\tvalid-logloss:0.02379\n",
      "[660]\ttrain-logloss:0.02340\tvalid-logloss:0.02373\n",
      "[670]\ttrain-logloss:0.02331\tvalid-logloss:0.02367\n",
      "[680]\ttrain-logloss:0.02323\tvalid-logloss:0.02363\n",
      "[690]\ttrain-logloss:0.02315\tvalid-logloss:0.02358\n",
      "[700]\ttrain-logloss:0.02307\tvalid-logloss:0.02355\n",
      "[710]\ttrain-logloss:0.02300\tvalid-logloss:0.02351\n",
      "[720]\ttrain-logloss:0.02293\tvalid-logloss:0.02347\n",
      "[730]\ttrain-logloss:0.02285\tvalid-logloss:0.02344\n",
      "[740]\ttrain-logloss:0.02278\tvalid-logloss:0.02340\n",
      "[750]\ttrain-logloss:0.02271\tvalid-logloss:0.02337\n",
      "[760]\ttrain-logloss:0.02264\tvalid-logloss:0.02334\n",
      "[770]\ttrain-logloss:0.02257\tvalid-logloss:0.02332\n",
      "[780]\ttrain-logloss:0.02251\tvalid-logloss:0.02330\n",
      "[790]\ttrain-logloss:0.02245\tvalid-logloss:0.02328\n",
      "[800]\ttrain-logloss:0.02239\tvalid-logloss:0.02326\n",
      "[810]\ttrain-logloss:0.02234\tvalid-logloss:0.02325\n",
      "[820]\ttrain-logloss:0.02228\tvalid-logloss:0.02323\n",
      "[830]\ttrain-logloss:0.02223\tvalid-logloss:0.02322\n",
      "[840]\ttrain-logloss:0.02218\tvalid-logloss:0.02320\n",
      "[850]\ttrain-logloss:0.02214\tvalid-logloss:0.02318\n",
      "[860]\ttrain-logloss:0.02210\tvalid-logloss:0.02317\n",
      "[870]\ttrain-logloss:0.02207\tvalid-logloss:0.02316\n",
      "[880]\ttrain-logloss:0.02203\tvalid-logloss:0.02315\n",
      "[890]\ttrain-logloss:0.02199\tvalid-logloss:0.02314\n",
      "[900]\ttrain-logloss:0.02195\tvalid-logloss:0.02314\n",
      "[910]\ttrain-logloss:0.02192\tvalid-logloss:0.02314\n",
      "[920]\ttrain-logloss:0.02189\tvalid-logloss:0.02313\n",
      "[930]\ttrain-logloss:0.02186\tvalid-logloss:0.02313\n",
      "[940]\ttrain-logloss:0.02183\tvalid-logloss:0.02314\n",
      "[950]\ttrain-logloss:0.02180\tvalid-logloss:0.02314\n",
      "[960]\ttrain-logloss:0.02177\tvalid-logloss:0.02314\n",
      "[970]\ttrain-logloss:0.02174\tvalid-logloss:0.02314\n",
      "[980]\ttrain-logloss:0.02172\tvalid-logloss:0.02314\n",
      "[990]\ttrain-logloss:0.02169\tvalid-logloss:0.02314\n",
      "[999]\ttrain-logloss:0.02167\tvalid-logloss:0.02313\n"
     ]
    }
   ],
   "source": [
    "import xgboost\n",
    "params = {}\n",
    "params['objective'] = 'binary:logistic'\n",
    "params['eval_metric'] = 'logloss'\n",
    "params['eta'] = 0.04\n",
    "params['max_depth'] = 8\n",
    "params['learning_rate'] = 0.01\n",
    "\n",
    "d_train = xgboost.DMatrix(X_train, label=y_train)\n",
    "d_valid = xgboost.DMatrix(X_test, label=y_test)\n",
    "\n",
    "watchlist = [(d_train, 'train'), (d_valid, 'valid')]\n",
    "\n",
    "bst = xgboost.train(params, d_train, 1000, watchlist, early_stopping_rounds=100, verbose_eval=10)\n",
    "y_pred = bst.predict(xgboost.DMatrix(X_test))"
   ]
  },
  {
   "cell_type": "code",
   "execution_count": 49,
   "metadata": {},
   "outputs": [],
   "source": [
    "ans_pred1 = bst.predict(xgboost.DMatrix(X_ans))"
   ]
  },
  {
   "cell_type": "code",
   "execution_count": 50,
   "metadata": {},
   "outputs": [
    {
     "name": "stdout",
     "output_type": "stream",
     "text": [
      "3423/0.815\n"
     ]
    }
   ],
   "source": [
    "answer = df['num_sold'].values[len_data:]\n",
    "count = 0 \n",
    "for i in range(len(answer)):\n",
    "        if(abs(answer[i]-ans_pred1[i])<=result_baseline):\n",
    "            count += 1\n",
    "a = len(df['num_sold'][len_data:])\n",
    "print(str(len_data+200)+'/'+str(count/a))"
   ]
  },
  {
   "cell_type": "code",
   "execution_count": 51,
   "metadata": {},
   "outputs": [
    {
     "data": {
      "text/plain": [
       "22.473529796116054"
      ]
     },
     "execution_count": 51,
     "metadata": {},
     "output_type": "execute_result"
    }
   ],
   "source": [
    "ans_pred1.mean() * num_sold_max"
   ]
  },
  {
   "cell_type": "code",
   "execution_count": 52,
   "metadata": {},
   "outputs": [
    {
     "data": {
      "text/plain": [
       "5.156280496157706"
      ]
     },
     "execution_count": 52,
     "metadata": {},
     "output_type": "execute_result"
    }
   ],
   "source": [
    "ans_pred2 = bst.predict(xgboost.DMatrix(x_final))\n",
    "ans_pred2[0] * num_sold_max"
   ]
  },
  {
   "cell_type": "code",
   "execution_count": null,
   "metadata": {},
   "outputs": [],
   "source": []
  }
 ],
 "metadata": {
  "kernelspec": {
   "display_name": "Python 3",
   "language": "python",
   "name": "python3"
  },
  "language_info": {
   "codemirror_mode": {
    "name": "ipython",
    "version": 3
   },
   "file_extension": ".py",
   "mimetype": "text/x-python",
   "name": "python",
   "nbconvert_exporter": "python",
   "pygments_lexer": "ipython3",
   "version": "3.7.3"
  }
 },
 "nbformat": 4,
 "nbformat_minor": 2
}
