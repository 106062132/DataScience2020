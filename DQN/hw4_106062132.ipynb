{
 "cells": [
  {
   "cell_type": "code",
   "execution_count": 1,
   "metadata": {},
   "outputs": [],
   "source": [
    "import gym\n",
    "import torch\n",
    "import torch.nn as nn\n",
    "import torch.nn.functional as F\n",
    "import numpy as np\n",
    "import math\n",
    "import random\n",
    "from collections import namedtuple\n",
    "import warnings\n",
    "from tqdm import tqdm_notebook as tqdm\n",
    "warnings.filterwarnings('ignore')"
   ]
  },
  {
   "cell_type": "code",
   "execution_count": 2,
   "metadata": {},
   "outputs": [],
   "source": [
    "env = gym.make('LunarLander-v2')"
   ]
  },
  {
   "cell_type": "code",
   "execution_count": 3,
   "metadata": {},
   "outputs": [],
   "source": [
    "num_state = env.observation_space.shape[0]\n",
    "num_action = env.action_space.n"
   ]
  },
  {
   "cell_type": "code",
   "execution_count": 4,
   "metadata": {},
   "outputs": [],
   "source": [
    "class network(nn.Module):\n",
    "    \n",
    "    def __init__(self , num_state , num_action):\n",
    "        \n",
    "        super().__init__()\n",
    "        self.fc1 = nn.Linear(num_state , 50 )\n",
    "        self.fc2 = nn.Linear(50 , 50)\n",
    "        self.out = nn.Linear(50 , num_action )\n",
    "        \n",
    "    def forward(self , x):\n",
    "        \n",
    "        x = F.relu(self.fc1(x))\n",
    "        x = F.relu(self.fc2(x))\n",
    "        x = self.out(x)\n",
    "        return x\n",
    "\n",
    "class ReplayBuffer(object):\n",
    "    '''\n",
    "    \n",
    "    This code is copied from openAI baselines\n",
    "    https://github.com/openai/baselines/blob/master/baselines/deepq/replay_buffer.py\n",
    "    '''\n",
    "    def __init__(self, size):\n",
    "        self._storage = []\n",
    "        self._maxsize = size\n",
    "        self._next_idx = 0\n",
    "\n",
    "    def __len__(self):\n",
    "        return len(self._storage)\n",
    "\n",
    "    def add(self, obs_t, action, reward, obs_tp1, done):\n",
    "        \n",
    "        data = (obs_t, action, reward, obs_tp1, done)\n",
    "\n",
    "        if self._next_idx >= len(self._storage):\n",
    "            self._storage.append(data)\n",
    "        else:\n",
    "            self._storage[self._next_idx] = data\n",
    "        self._next_idx = (self._next_idx + 1) % self._maxsize\n",
    "\n",
    "    def _encode_sample(self, idxes , dtype = np.float32):\n",
    "        \n",
    "        \n",
    "        obses_t, actions, rewards, obses_tp1, dones = [], [], [], [], []\n",
    "        for i in idxes:\n",
    "            data = self._storage[i]\n",
    "            obs_t, action, reward, obs_tp1, done = data\n",
    "            obses_t.append(np.array(obs_t, copy=False,dtype=dtype))\n",
    "            actions.append(np.array(action, copy=False,dtype=np.long))\n",
    "            rewards.append(reward)\n",
    "            obses_tp1.append(np.array(obs_tp1, copy=False,dtype=dtype))\n",
    "            dones.append(done)\n",
    "        return np.array(obses_t,dtype=dtype), np.array(actions , dtype = np.long), \\\n",
    "    np.array(rewards  ,dtype=dtype), np.array(obses_tp1,dtype=dtype), np.array(dones , dtype = bool)\n",
    "    \n",
    "    \n",
    "    def sample(self, batch_size):\n",
    "        idxes = [random.randint(0, len(self._storage) - 1) for _ in range(batch_size)]\n",
    "        return self._encode_sample(idxes)\n",
    "\n",
    "    \n",
    "class Agent():\n",
    "    \n",
    "    def __init__(self , num_state , num_action):\n",
    "        \n",
    "        \n",
    "        \n",
    "        self.policy_network = network(num_state , num_action)\n",
    "        self.target_network = network(num_state , num_action)\n",
    "        \n",
    "        self.target_network.load_state_dict(self.policy_network.state_dict())\n",
    "        \n",
    "        self.steps_done = 0\n",
    "        self.num_state = num_state\n",
    "        self.num_action = num_action\n",
    "        \n",
    "        self.EPS_END = 0.05\n",
    "        self.EPS_START = 0.999\n",
    "        \n",
    "        self.EPS_DECAY = 1000\n",
    "        self.batch_size = 64\n",
    "        self.buffer = ReplayBuffer( 4000 )\n",
    "        self.optimizer = torch.optim.Adam(self.policy_network.parameters()   , amsgrad=True)\n",
    "        \n",
    "    def take_action(self , x , is_testing = False ) :\n",
    "        eps_threshold = self.EPS_END + (self.EPS_START - self.EPS_END) * \\\n",
    "            math.exp(-1. * self.steps_done / self.EPS_DECAY)\n",
    "        \n",
    "        x = x.astype(np.float32)\n",
    "        x = torch.from_numpy(x)\n",
    "        rand_val = np.random.uniform()\n",
    "        if rand_val > eps_threshold or is_testing == True:\n",
    "            val = self.policy_network(x)\n",
    "            action = torch.argmax(val).item()\n",
    "            \n",
    "            \n",
    "        else:\n",
    "            action = np.random.randint(0 , self.num_action )\n",
    "        \n",
    "        if is_testing == False:\n",
    "            self.steps_done += 1\n",
    "        \n",
    "        return action\n",
    "            \n",
    "    \n",
    "    def store_transition(self, state , action , reward , next_state , done ):\n",
    "        \n",
    "        self.buffer.add(state , action , reward , next_state , done)\n",
    "    \n",
    "    def update_parameters(self):\n",
    "        \n",
    "        if len(self.buffer) < self.batch_size:\n",
    "            return \n",
    "        \n",
    "        loss_fn = torch.nn.MSELoss(reduction = 'mean')\n",
    "        \n",
    "        batch = self.buffer.sample(self.batch_size)\n",
    "        states , actions , rewards , next_states , dones = batch\n",
    "        states = torch.from_numpy(states)\n",
    "        actions = torch.from_numpy(actions).view(-1,1)\n",
    "        rewards = torch.from_numpy(rewards)\n",
    "        next_states = torch.from_numpy(next_states)\n",
    "        actions = actions.long()\n",
    "        \n",
    "        non_final_mask = torch.tensor(tuple(map(lambda s : s != True, dones)),dtype = torch.bool)\n",
    "        non_final_next_state = next_states[non_final_mask]\n",
    "        \n",
    "        \n",
    "        pred_q = self.policy_network(states).gather(1 , actions).view(-1) \n",
    "        \n",
    "        \n",
    "        next_state_value = torch.zeros(self.batch_size).detach()\n",
    "        next_state_value[non_final_mask] = self.target_network(non_final_next_state).max(1)[0]\n",
    "        expected_q = (next_state_value + rewards).detach()\n",
    "        \n",
    "        \n",
    "        loss = loss_fn(pred_q , expected_q)\n",
    "        \n",
    "        self.optimizer.zero_grad()\n",
    "        loss.backward()\n",
    "        self.optimizer.step()\n",
    "        \n",
    "    def update_target_weight(self):\n",
    "        self.target_network.load_state_dict(self.policy_network.state_dict())\n"
   ]
  },
  {
   "cell_type": "code",
   "execution_count": 5,
   "metadata": {},
   "outputs": [],
   "source": [
    "from PIL import Image\n",
    "import time\n",
    "def get_snap_shot(agent  , env_name = 'LunarLander-v2' , gif_filename = None):\n",
    "    try:\n",
    "        \n",
    "        if gif_filename != None:\n",
    "            frames = []\n",
    "        \n",
    "        env = gym.make(env_name)\n",
    "        state = env.reset()\n",
    "        done = False\n",
    "        rew_sum = 0.0\n",
    "        while done == False:\n",
    "            if gif_filename != None:\n",
    "                frames.append(Image.fromarray(env.render(mode='rgb_array')))\n",
    "            else:\n",
    "                env.render()\n",
    "            action = agent.take_action(state , is_testing = True)\n",
    "            next_state , reward , done , _ = env.step(action)\n",
    "            rew_sum += reward\n",
    "            state = next_state[:]\n",
    "        print('total reward',rew_sum)\n",
    "        \n",
    "        if gif_filename != None:\n",
    "            with open(gif_filename,'wb') as f:\n",
    "                im = Image.new('RGB', frames[0].size)\n",
    "                im.save(f, save_all=True, append_images=frames)\n",
    "        time.sleep(1.5) #Prevent kernel dead\n",
    "        \n",
    "    finally:\n",
    "        env.close()\n",
    "        \n",
    "        "
   ]
  },
  {
   "cell_type": "code",
   "execution_count": 12,
   "metadata": {
    "scrolled": false
   },
   "outputs": [
    {
     "data": {
      "application/vnd.jupyter.widget-view+json": {
       "model_id": "3744dc4cb47745c595fbadb92a8fb4c1",
       "version_major": 2,
       "version_minor": 0
      },
      "text/plain": [
       "HBox(children=(IntProgress(value=0, max=1000), HTML(value='')))"
      ]
     },
     "metadata": {},
     "output_type": "display_data"
    },
    {
     "name": "stdout",
     "output_type": "stream",
     "text": [
      "-170.66530826540628\n",
      "-182.6955566167171\n",
      "-91.20198650807866\n",
      "45.13525863088381\n",
      "242.7812571415648\n",
      "-237.48033290849807\n",
      "-150.9300518649605\n",
      "191.41928760606913\n",
      "-55.991339721045705\n",
      "248.11738541218065\n",
      "227.30131240720175\n",
      "2.5521671115871225\n",
      "154.81802351158254\n",
      "10.454320368960822\n",
      "-111.07670809836245\n",
      "-139.30777539415726\n",
      "294.6183706798413\n",
      "274.06878878015834\n",
      "286.9725323584556\n",
      "196.20402417585777\n",
      "\n"
     ]
    }
   ],
   "source": [
    "agent = Agent(num_state , num_action)\n",
    "reward_history = []\n",
    "try:\n",
    "    env = gym.make('LunarLander-v2')\n",
    "    for e in tqdm(range(1000)):\n",
    "        state = env.reset()\n",
    "        done = False\n",
    "        reward_sum = 0.0\n",
    "        while done == False:\n",
    "            \n",
    "            action = agent.take_action(state)\n",
    "            next_state , reward , done , _ = env.step(action)\n",
    "            reward_sum += reward \n",
    "            if(state[1] >= 1.5):\n",
    "                reward = reward + abs(state[3])  \n",
    "            reward = reward - abs(state[1]) * 2 - abs(state[0]) \n",
    "            agent.store_transition( state , action , reward , next_state , done )\n",
    "            state = next_state[:]\n",
    "            agent.update_parameters()\n",
    "            \n",
    "        reward_history.append(reward_sum)\n",
    "        if e  % 50 == 0:\n",
    "            print(reward_sum)\n",
    "            #get_snap_shot(agent = agent , gif_filename='cartpole_gif/episode_{}.gif'.format(e))\n",
    "            #get_snap_shot(agent = agent)\n",
    "        if e > 0 and e % 20 == 0:\n",
    "            agent.update_target_weight()\n",
    "finally:\n",
    "    env.close()"
   ]
  },
  {
   "cell_type": "code",
   "execution_count": 19,
   "metadata": {},
   "outputs": [
    {
     "data": {
      "application/vnd.jupyter.widget-view+json": {
       "model_id": "6e0008a876c34ba3bbe23340aad8a286",
       "version_major": 2,
       "version_minor": 0
      },
      "text/plain": [
       "HBox(children=(IntProgress(value=0, max=1), HTML(value='')))"
      ]
     },
     "metadata": {},
     "output_type": "display_data"
    },
    {
     "name": "stdout",
     "output_type": "stream",
     "text": [
      "total reward 267.136308838039\n"
     ]
    }
   ],
   "source": [
    "try:\n",
    "    env = gym.make('LunarLander-v2')\n",
    "    for e in tqdm(range(1)):\n",
    "        state = env.reset()\n",
    "        done = False\n",
    "        reward_sum = 0.0\n",
    "        while done == False:\n",
    "            \n",
    "            action = agent.take_action(state)\n",
    "            next_state , reward , done , _ = env.step(action)\n",
    "            reward_final = reward\n",
    "            reward_sum += reward \n",
    "            if(state[1] >= 1.5):\n",
    "                reward = reward + abs(state[3])  \n",
    "            reward = reward - abs(state[1]) * 2 - abs(state[0]) \n",
    "            agent.store_transition( state , action , reward , next_state , done )\n",
    "            state = next_state[:]\n",
    "            agent.update_parameters()\n",
    "            \n",
    "        reward_history.append(reward_sum)\n",
    "        if e  % 50 == 0:\n",
    "            #print(reward_final)\n",
    "            #print(reward_sum)\n",
    "            get_snap_shot(agent = agent , gif_filename='result2.gif')\n",
    "            #get_snap_shot(agent = agent)\n",
    "        if e > 0 and e % 20 == 0:\n",
    "            agent.update_target_weight()\n",
    "finally:\n",
    "    env.close()"
   ]
  },
  {
   "cell_type": "code",
   "execution_count": 10,
   "metadata": {},
   "outputs": [
    {
     "data": {
      "text/plain": [
       "[<matplotlib.lines.Line2D at 0x11bbe8e48>]"
      ]
     },
     "execution_count": 10,
     "metadata": {},
     "output_type": "execute_result"
    },
    {
     "data": {
      "image/png": "[encoded data removed]",
      "text/plain": [
       "<Figure size 432x288 with 1 Axes>"
      ]
     },
     "metadata": {
      "needs_background": "light"
     },
     "output_type": "display_data"
    }
   ],
   "source": [
    "import matplotlib.pyplot as plt\n",
    "plt.plot(reward_history)"
   ]
  },
  {
   "cell_type": "code",
   "execution_count": null,
   "metadata": {},
   "outputs": [],
   "source": []
  },
  {
   "cell_type": "code",
   "execution_count": null,
   "metadata": {},
   "outputs": [],
   "source": []
  }
 ],
 "metadata": {
  "kernelspec": {
   "display_name": "Python 3",
   "language": "python",
   "name": "python3"
  },
  "language_info": {
   "codemirror_mode": {
    "name": "ipython",
    "version": 3
   },
   "file_extension": ".py",
   "mimetype": "text/x-python",
   "name": "python",
   "nbconvert_exporter": "python",
   "pygments_lexer": "ipython3",
   "version": "3.7.3"
  }
 },
 "nbformat": 4,
 "nbformat_minor": 2
}
