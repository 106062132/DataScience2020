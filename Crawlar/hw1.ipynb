{
 "cells": [
  {
   "cell_type": "code",
   "execution_count": 1,
   "metadata": {},
   "outputs": [],
   "source": [
    "from bs4 import BeautifulSoup\n",
    "from urllib.request import urlopen\n",
    "fo = open(\"input_hw1.txt\", \"r\")\n",
    "fp = open(\"106062132_hw1_output.txt\", \"w+\", encoding = \"UTF-8\")\n",
    "for line in fo.readlines():\n",
    "    next_account = line.strip()\n",
    "    round_num = 4\n",
    "    address_array = ['0'] * 4\n",
    "    while(round_num):\n",
    "        address_array[4 - round_num] = next_account\n",
    "        url = \"https://www.blockchain.com/eth/address/\"+ next_account +\"?view=standard\"\n",
    "        html = urlopen(url).read()\n",
    "        soup = BeautifulSoup(html, \"html.parser\")\n",
    "        target = soup.find('div','hnfgic-0 blXlQu')('span')\n",
    "        for i in range(len(target)):\n",
    "            if(i % 2 == 0 and i != 0):\n",
    "                tmp = target[i].text + ': ' + target[i+1].text\n",
    "                print(tmp,file = fp)\n",
    "        target1 = soup.find_all('div','sc-1fp9csv-0 gkLWFf')\n",
    "        index = -1\n",
    "        for i in range(len(target1)):\n",
    "            if(target1[len(target1) - 1 - i].find('span','sc-1ryi78w-0 bFGdFC sc-16b9dsl-1 iIOvXh u3ufsr-0 gXDEBk sc-85fclk-0 gskKpd') != None):\n",
    "                index = len(target1)- 1 - i\n",
    "                break\n",
    "        if(index == -1):\n",
    "            print('--------------------------------------------------------------------------',file = fp)\n",
    "            break\n",
    "        tmp = 'Date: ' + target1[index].find('span','sc-1ryi78w-0 bFGdFC sc-16b9dsl-1 iIOvXh u3ufsr-0 gXDEBk').text\n",
    "        print(tmp,file = fp)\n",
    "        next_account = target1[index].find_all('a','sc-1r996ns-0 dEMBMB sc-1tbyx6t-1 gzmhhS iklhnl-0 dVkJbV')[2].text.strip()\n",
    "        tmp = 'To: ' + next_account\n",
    "        print(tmp , file = fp)\n",
    "        tmp = 'Amount: ' + target1[index].find('span','sc-1ryi78w-0 bFGdFC sc-16b9dsl-1 iIOvXh u3ufsr-0 gXDEBk sc-85fclk-0 gskKpd').text\n",
    "        print(tmp,file = fp)\n",
    "        round_num -= 1\n",
    "        print('--------------------------------------------------------------------------',file = fp)\n",
    "    index_limit = 3\n",
    "    for i in range(4):\n",
    "        if(address_array[i] == '0'):\n",
    "            index_limit -= 1\n",
    "    for i in range(index_limit):\n",
    "        tmp = address_array[i] + \" -> \"\n",
    "        print(tmp, end='',file = fp)\n",
    "    print(address_array[index_limit],file = fp)\n",
    "    print('--------------------------------------------------------------------------',file = fp)\n",
    "fp.close()\n",
    "fo.close()"
   ]
  },
  {
   "cell_type": "code",
   "execution_count": 2,
   "metadata": {},
   "outputs": [
    {
     "name": "stdout",
     "output_type": "stream",
     "text": [
      "[NbConvertApp] Converting notebook hw1.ipynb to script\n",
      "[NbConvertApp] Writing 2388 bytes to hw1.py\n"
     ]
    }
   ],
   "source": [
    "!jupyter nbconvert --to script hw1.ipynb"
   ]
  },
  {
   "cell_type": "code",
   "execution_count": null,
   "metadata": {},
   "outputs": [],
   "source": []
  }
 ],
 "metadata": {
  "kernelspec": {
   "display_name": "Python 3",
   "language": "python",
   "name": "python3"
  },
  "language_info": {
   "codemirror_mode": {
    "name": "ipython",
    "version": 3
   },
   "file_extension": ".py",
   "mimetype": "text/x-python",
   "name": "python",
   "nbconvert_exporter": "python",
   "pygments_lexer": "ipython3",
   "version": "3.7.3"
  }
 },
 "nbformat": 4,
 "nbformat_minor": 2
}
