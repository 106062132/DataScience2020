{
 "cells": [
  {
   "cell_type": "code",
   "execution_count": 253,
   "metadata": {},
   "outputs": [],
   "source": [
    "import pandas as pd \n",
    "df_shopee = pd.read_csv('家電_shopee/shopee電風扇.csv',index_col=0)  "
   ]
  },
  {
   "cell_type": "code",
   "execution_count": 254,
   "metadata": {},
   "outputs": [],
   "source": [
    "#將csv data存到txt\n",
    "f = open('shopee.txt','w')\n",
    "for item in df_shopee['item']:\n",
    "    print(item, file = f)\n",
    "f.close()"
   ]
  },
  {
   "cell_type": "code",
   "execution_count": 255,
   "metadata": {},
   "outputs": [],
   "source": [
    "def get_TF(words, topK=10): \n",
    "    tf_dic = {} \n",
    "    for w in words: \n",
    "        tf_dic[w] = tf_dic.get(w, 0) + 1 \n",
    "    return sorted(tf_dic.items(), key = lambda x: x[1], reverse=True)[:topK]"
   ]
  },
  {
   "cell_type": "code",
   "execution_count": 256,
   "metadata": {},
   "outputs": [],
   "source": [
    "def get_content(path):\n",
    "    with open(path, 'r', encoding='utf-8', errors='ignore') as f: \n",
    "        content = '' \n",
    "        for l in f:\n",
    "            l = l.strip() \n",
    "            content += l \n",
    "    return content"
   ]
  },
  {
   "cell_type": "code",
   "execution_count": 257,
   "metadata": {},
   "outputs": [],
   "source": [
    "stop_words = []\n",
    "stop_words.append(' ')\n",
    "stop_words.append('【')\n",
    "stop_words.append('】')\n",
    "stop_words.append('-')\n",
    "stop_words.append('╯')\n",
    "stop_words.append('❤')\n",
    "stop_words.append('♡')\n",
    "stop_words.append('(')\n",
    "stop_words.append('）')\n",
    "stop_words.append('！')\n",
    "stop_words.append(')')\n",
    "stop_words.append('~')\n",
    "stop_words.append('📣')\n",
    "stop_words.append('👗')\n",
    "stop_words.append('[')\n",
    "stop_words.append('✨')\n",
    "stop_words.append(']')\n",
    "stop_words.append('.')\n",
    "stop_words.append('/')\n",
    "stop_words.append('🔥')\n",
    "stop_words.append('《')\n",
    "stop_words.append('+')\n",
    "stop_words.append('《')\n",
    "stop_words.append('*')\n",
    "stop_words.append('》')\n",
    "stop_words.append('『')\n",
    "stop_words.append('』')\n",
    "stop_words.append('，')\n",
    "stop_words.append('◎')\n",
    "stop_words.append('（')\n",
    "stop_words.append('★')\n",
    "stop_words.append('、')\n",
    "stop_words.append('/')\n",
    "stop_words.append('／')\n",
    "stop_words.append('＊')\n",
    "stop_words.append('🎉')\n",
    "stop_words.append('🌟')\n",
    "stop_words.append('💕')\n",
    "stop_words.append('│')\n",
    "stop_words.append('🌈')\n",
    "stop_words.append('👑')\n",
    "stop_words.append('．')\n",
    "stop_words.append('▪')\n",
    "stop_words.append('|')"
   ]
  },
  {
   "cell_type": "code",
   "execution_count": 258,
   "metadata": {},
   "outputs": [],
   "source": [
    "import glob \n",
    "import jieba \n",
    "files = 'shopee.txt'\n",
    "corpus = [get_content(files)]\n",
    "split_words = [x for x in jieba.cut(corpus[0]) if x not in stop_words]"
   ]
  },
  {
   "cell_type": "code",
   "execution_count": 259,
   "metadata": {},
   "outputs": [
    {
     "name": "stdout",
     "output_type": "stream",
     "text": [
      "樣本的topK(10)詞：[('風扇', 6935), ('扇', 2278), ('電風扇', 1743), ('USB', 1670), ('迷你', 1310), ('手持', 1068), ('現貨', 1016), ('吋', 1010), ('電扇', 913), ('優選', 838), ('小風扇', 748), ('皮', 705), ('蝦', 663), ('隨身', 553), ('靜音', 444), ('便', 414), ('台灣', 401), ('充電', 394), ('充電風', 358), ('桌面', 356), ('桌扇', 321), ('蝦皮', 318), ('車用', 314), ('可', 303), ('usb', 283), ('製', 283), ('夾扇', 265), ('罩', 262), ('循環扇', 255), ('安全', 251), ('12', 234), ('台', 232), ('空調', 223), ('出貨', 218), ('攜式', 217), ('夾式', 214), ('立扇', 212), ('360', 210), ('汽車', 208), ('免運', 207), ('灣', 206), ('公室', 204), ('伸縮', 199), ('工業', 195), ('辦', 192), ('懶人', 190), ('16', 187), ('8', 184), ('14', 180), ('公分', 172), ('兩用', 171), ('4', 171), ('水冷', 165), ('小電扇', 160), ('DC', 160), ('新款', 159), ('散熱', 153), ('小', 152), ('電腦', 149), ('涼風扇', 148), ('家用', 148), ('附發票', 147), ('造', 146), ('電池', 145), ('10', 144), ('散熱風', 142), ('學生', 140), ('降溫', 140), ('攜', 139), ('折疊', 138), ('小型', 137), ('擺頭', 135), ('宿舍', 134), ('小米', 134), ('折疊風', 133), ('充電式', 130), ('LED', 128), ('露營', 127), ('頸掛', 126), ('掛脖風', 123), ('風', 121), ('冷氣', 120), ('保固', 118), ('雙頭', 114), ('燈', 113), ('18', 113), ('免運費', 111), ('超靜音', 110), ('桌上型', 109), ('無葉', 109), ('運動', 108), ('三段', 107), ('風速', 107), ('防塵罩', 107), ('空氣', 106), ('風力', 104), ('支架', 104), ('3', 104), ('12V', 104), ('嬰兒', 103)]\n"
     ]
    }
   ],
   "source": [
    "print('樣本的topK(10)詞：'+str(get_TF(split_words,100)))"
   ]
  },
  {
   "cell_type": "code",
   "execution_count": 260,
   "metadata": {},
   "outputs": [],
   "source": [
    "frequent_array = get_TF(split_words,100)\n",
    "score = [0]*len(df_shopee['item'])\n",
    "index = 0\n",
    "for item in df_shopee['item']:\n",
    "    for i in range(len(frequent_array)):\n",
    "        if (frequent_array[i][0]) in item:\n",
    "            score[index] += frequent_array[i][1]\n",
    "    index += 1\n",
    "df_shopee['item'] = score"
   ]
  },
  {
   "cell_type": "code",
   "execution_count": 261,
   "metadata": {},
   "outputs": [],
   "source": [
    "price_array = df_shopee['price']\n",
    "price_array = list(map(str, price_array))\n",
    "price_array_2 = ['0'] * len(price_array)\n",
    "index_i = 0\n",
    "for item in price_array:\n",
    "    if('-' in item):\n",
    "        index_j = str.index(item,'-')\n",
    "        price_array_2[index_i] = item[-index_j:]\n",
    "    else:\n",
    "        price_array_2[index_i] = item\n",
    "    index_i += 1\n",
    "index_i = 0\n",
    "for item in price_array_2:\n",
    "    price_array_2[index_i] = str.replace(item,\"$\",\"\")\n",
    "    price_array_2[index_i] = str.replace(price_array_2[index_i],\",\",\"\")\n",
    "    index_i += 1\n",
    "df_shopee['price'] = price_array_2"
   ]
  },
  {
   "cell_type": "code",
   "execution_count": 262,
   "metadata": {},
   "outputs": [],
   "source": [
    "num_rate_array = df_shopee['num_rate']\n",
    "num_rate_array2 = [0] * len(num_rate_array)\n",
    "index = 0\n",
    "for item in num_rate_array:\n",
    "    num_rate_array2[index] = str.replace(item,\",\",\"\")\n",
    "    index += 1\n",
    "df_shopee['num_rate'] = num_rate_array2"
   ]
  },
  {
   "cell_type": "code",
   "execution_count": 263,
   "metadata": {},
   "outputs": [],
   "source": [
    "num_sold_array = df_shopee['num_sold']\n",
    "num_sold_array2 = [0] * len(num_sold_array)\n",
    "index = 0\n",
    "for item in num_sold_array:\n",
    "    num_sold_array2[index] = str.replace(item,\",\",\"\")\n",
    "    index += 1\n",
    "df_shopee['num_sold'] = num_sold_array2"
   ]
  },
  {
   "cell_type": "code",
   "execution_count": 264,
   "metadata": {},
   "outputs": [],
   "source": [
    "df_shopee = df_shopee[df_shopee['price'] != 'nan']"
   ]
  },
  {
   "cell_type": "code",
   "execution_count": 265,
   "metadata": {},
   "outputs": [],
   "source": [
    "a = df_shopee['num_sold']\n",
    "a = list(map(int,a))\n",
    "df_shopee['num_sold'] = a\n",
    "a = df_shopee['num_rate']\n",
    "a = list(map(int,a))\n",
    "df_shopee['num_rate'] = a\n",
    "a = df_shopee['price']\n",
    "a = list(map(float,a))\n",
    "a = list(map(int,a))\n",
    "df_shopee['price'] = a"
   ]
  },
  {
   "cell_type": "code",
   "execution_count": 266,
   "metadata": {},
   "outputs": [],
   "source": [
    "df_shopee = df_shopee.drop(df_shopee[df_shopee.price > 30000].index)\n",
    "df_shopee = df_shopee.drop(df_shopee[df_shopee.num_sold > 5000].index)"
   ]
  },
  {
   "cell_type": "code",
   "execution_count": 267,
   "metadata": {},
   "outputs": [
    {
     "name": "stdout",
     "output_type": "stream",
     "text": [
      "0.004219409282700422\n",
      "4740\n",
      "23094\n"
     ]
    }
   ],
   "source": [
    "result_baseline = 20/df_shopee['num_sold'].max()\n",
    "num_sold_max = df_shopee['num_sold'].max()\n",
    "item_max = df_shopee['item'].max()\n",
    "print(result_baseline)\n",
    "print(num_sold_max)\n",
    "print(item_max)"
   ]
  },
  {
   "cell_type": "code",
   "execution_count": 268,
   "metadata": {},
   "outputs": [
    {
     "data": {
      "text/html": [
       "<div>\n",
       "<style scoped>\n",
       "    .dataframe tbody tr th:only-of-type {\n",
       "        vertical-align: middle;\n",
       "    }\n",
       "\n",
       "    .dataframe tbody tr th {\n",
       "        vertical-align: top;\n",
       "    }\n",
       "\n",
       "    .dataframe thead th {\n",
       "        text-align: right;\n",
       "    }\n",
       "</style>\n",
       "<table border=\"1\" class=\"dataframe\">\n",
       "  <thead>\n",
       "    <tr style=\"text-align: right;\">\n",
       "      <th></th>\n",
       "      <th>item</th>\n",
       "      <th>rate</th>\n",
       "      <th>num_rate</th>\n",
       "      <th>num_sold</th>\n",
       "      <th>price</th>\n",
       "    </tr>\n",
       "  </thead>\n",
       "  <tbody>\n",
       "    <tr>\n",
       "      <th>count</th>\n",
       "      <td>3842.000000</td>\n",
       "      <td>3842.000000</td>\n",
       "      <td>3842.000000</td>\n",
       "      <td>3842.000000</td>\n",
       "      <td>3842.000000</td>\n",
       "    </tr>\n",
       "    <tr>\n",
       "      <th>mean</th>\n",
       "      <td>13972.176471</td>\n",
       "      <td>4.908095</td>\n",
       "      <td>69.828475</td>\n",
       "      <td>204.962259</td>\n",
       "      <td>488.169964</td>\n",
       "    </tr>\n",
       "    <tr>\n",
       "      <th>std</th>\n",
       "      <td>3038.987310</td>\n",
       "      <td>0.185253</td>\n",
       "      <td>162.657101</td>\n",
       "      <td>490.579251</td>\n",
       "      <td>710.496246</td>\n",
       "    </tr>\n",
       "    <tr>\n",
       "      <th>min</th>\n",
       "      <td>199.000000</td>\n",
       "      <td>2.000000</td>\n",
       "      <td>1.000000</td>\n",
       "      <td>3.000000</td>\n",
       "      <td>1.000000</td>\n",
       "    </tr>\n",
       "    <tr>\n",
       "      <th>25%</th>\n",
       "      <td>12065.250000</td>\n",
       "      <td>4.900000</td>\n",
       "      <td>6.000000</td>\n",
       "      <td>15.000000</td>\n",
       "      <td>118.000000</td>\n",
       "    </tr>\n",
       "    <tr>\n",
       "      <th>50%</th>\n",
       "      <td>14074.000000</td>\n",
       "      <td>5.000000</td>\n",
       "      <td>18.000000</td>\n",
       "      <td>48.000000</td>\n",
       "      <td>249.000000</td>\n",
       "    </tr>\n",
       "    <tr>\n",
       "      <th>75%</th>\n",
       "      <td>16010.750000</td>\n",
       "      <td>5.000000</td>\n",
       "      <td>57.000000</td>\n",
       "      <td>155.000000</td>\n",
       "      <td>550.000000</td>\n",
       "    </tr>\n",
       "    <tr>\n",
       "      <th>max</th>\n",
       "      <td>23094.000000</td>\n",
       "      <td>5.000000</td>\n",
       "      <td>1800.000000</td>\n",
       "      <td>4740.000000</td>\n",
       "      <td>9900.000000</td>\n",
       "    </tr>\n",
       "  </tbody>\n",
       "</table>\n",
       "</div>"
      ],
      "text/plain": [
       "               item         rate     num_rate     num_sold        price\n",
       "count   3842.000000  3842.000000  3842.000000  3842.000000  3842.000000\n",
       "mean   13972.176471     4.908095    69.828475   204.962259   488.169964\n",
       "std     3038.987310     0.185253   162.657101   490.579251   710.496246\n",
       "min      199.000000     2.000000     1.000000     3.000000     1.000000\n",
       "25%    12065.250000     4.900000     6.000000    15.000000   118.000000\n",
       "50%    14074.000000     5.000000    18.000000    48.000000   249.000000\n",
       "75%    16010.750000     5.000000    57.000000   155.000000   550.000000\n",
       "max    23094.000000     5.000000  1800.000000  4740.000000  9900.000000"
      ]
     },
     "execution_count": 268,
     "metadata": {},
     "output_type": "execute_result"
    }
   ],
   "source": [
    "df_shopee.describe()"
   ]
  },
  {
   "cell_type": "code",
   "execution_count": 269,
   "metadata": {},
   "outputs": [],
   "source": [
    "from sklearn.preprocessing import MinMaxScaler\n",
    "sc = MinMaxScaler()\n",
    "sc.fit(df_shopee)\n",
    "df_shopee = pd.DataFrame(sc.transform(df_shopee), index=df_shopee.index, columns=df_shopee.columns)"
   ]
  },
  {
   "cell_type": "code",
   "execution_count": 270,
   "metadata": {},
   "outputs": [
    {
     "name": "stdout",
     "output_type": "stream",
     "text": [
      "0.0\n"
     ]
    }
   ],
   "source": [
    "score = 0\n",
    "title_a = '短褲褲女牛仔夏季寬高腰鬆'\n",
    "for i in range(len(frequent_array)):\n",
    "        if (frequent_array[i][0]) in title_a:\n",
    "            score+= frequent_array[i][1]\n",
    "score/=item_max\n",
    "print(score)\n",
    "import numpy as np\n",
    "x_final = np.array([[score,df_shopee['rate'].mean(),\n",
    "df_shopee['num_rate'].mean(),\n",
    "df_shopee['price'].mean()]])"
   ]
  },
  {
   "cell_type": "code",
   "execution_count": 271,
   "metadata": {},
   "outputs": [
    {
     "data": {
      "text/plain": [
       "3642"
      ]
     },
     "execution_count": 271,
     "metadata": {},
     "output_type": "execute_result"
    }
   ],
   "source": [
    "len_data = len(df_shopee)-200\n",
    "len_data"
   ]
  },
  {
   "cell_type": "code",
   "execution_count": 272,
   "metadata": {},
   "outputs": [
    {
     "data": {
      "text/html": [
       "<div>\n",
       "<style scoped>\n",
       "    .dataframe tbody tr th:only-of-type {\n",
       "        vertical-align: middle;\n",
       "    }\n",
       "\n",
       "    .dataframe tbody tr th {\n",
       "        vertical-align: top;\n",
       "    }\n",
       "\n",
       "    .dataframe thead th {\n",
       "        text-align: right;\n",
       "    }\n",
       "</style>\n",
       "<table border=\"1\" class=\"dataframe\">\n",
       "  <thead>\n",
       "    <tr style=\"text-align: right;\">\n",
       "      <th></th>\n",
       "      <th>item</th>\n",
       "      <th>rate</th>\n",
       "      <th>num_rate</th>\n",
       "      <th>num_sold</th>\n",
       "      <th>price</th>\n",
       "    </tr>\n",
       "  </thead>\n",
       "  <tbody>\n",
       "    <tr>\n",
       "      <th>count</th>\n",
       "      <td>3842.000000</td>\n",
       "      <td>3842.000000</td>\n",
       "      <td>3842.000000</td>\n",
       "      <td>3842.000000</td>\n",
       "      <td>3842.000000</td>\n",
       "    </tr>\n",
       "    <tr>\n",
       "      <th>mean</th>\n",
       "      <td>0.601580</td>\n",
       "      <td>0.969365</td>\n",
       "      <td>0.038259</td>\n",
       "      <td>0.042635</td>\n",
       "      <td>0.049214</td>\n",
       "    </tr>\n",
       "    <tr>\n",
       "      <th>std</th>\n",
       "      <td>0.132736</td>\n",
       "      <td>0.061751</td>\n",
       "      <td>0.090415</td>\n",
       "      <td>0.103563</td>\n",
       "      <td>0.071775</td>\n",
       "    </tr>\n",
       "    <tr>\n",
       "      <th>min</th>\n",
       "      <td>0.000000</td>\n",
       "      <td>0.000000</td>\n",
       "      <td>0.000000</td>\n",
       "      <td>0.000000</td>\n",
       "      <td>0.000000</td>\n",
       "    </tr>\n",
       "    <tr>\n",
       "      <th>25%</th>\n",
       "      <td>0.518290</td>\n",
       "      <td>0.966667</td>\n",
       "      <td>0.002779</td>\n",
       "      <td>0.002533</td>\n",
       "      <td>0.011819</td>\n",
       "    </tr>\n",
       "    <tr>\n",
       "      <th>50%</th>\n",
       "      <td>0.606028</td>\n",
       "      <td>1.000000</td>\n",
       "      <td>0.009450</td>\n",
       "      <td>0.009500</td>\n",
       "      <td>0.025053</td>\n",
       "    </tr>\n",
       "    <tr>\n",
       "      <th>75%</th>\n",
       "      <td>0.690620</td>\n",
       "      <td>1.000000</td>\n",
       "      <td>0.031128</td>\n",
       "      <td>0.032088</td>\n",
       "      <td>0.055460</td>\n",
       "    </tr>\n",
       "    <tr>\n",
       "      <th>max</th>\n",
       "      <td>1.000000</td>\n",
       "      <td>1.000000</td>\n",
       "      <td>1.000000</td>\n",
       "      <td>1.000000</td>\n",
       "      <td>1.000000</td>\n",
       "    </tr>\n",
       "  </tbody>\n",
       "</table>\n",
       "</div>"
      ],
      "text/plain": [
       "              item         rate     num_rate     num_sold        price\n",
       "count  3842.000000  3842.000000  3842.000000  3842.000000  3842.000000\n",
       "mean      0.601580     0.969365     0.038259     0.042635     0.049214\n",
       "std       0.132736     0.061751     0.090415     0.103563     0.071775\n",
       "min       0.000000     0.000000     0.000000     0.000000     0.000000\n",
       "25%       0.518290     0.966667     0.002779     0.002533     0.011819\n",
       "50%       0.606028     1.000000     0.009450     0.009500     0.025053\n",
       "75%       0.690620     1.000000     0.031128     0.032088     0.055460\n",
       "max       1.000000     1.000000     1.000000     1.000000     1.000000"
      ]
     },
     "execution_count": 272,
     "metadata": {},
     "output_type": "execute_result"
    }
   ],
   "source": [
    "df_shopee.describe()"
   ]
  },
  {
   "cell_type": "code",
   "execution_count": 278,
   "metadata": {},
   "outputs": [],
   "source": [
    "df = df_shopee\n",
    "from sklearn.utils import shuffle\n",
    "df = shuffle(df)"
   ]
  },
  {
   "cell_type": "code",
   "execution_count": 279,
   "metadata": {},
   "outputs": [],
   "source": [
    "from sklearn.model_selection import train_test_split\n",
    "X_train, X_test, y_train, y_test = train_test_split(\n",
    "    df.drop(columns = ['num_sold']).values[0:len_data],\n",
    "    df['num_sold'].values[0:len_data], test_size=0.5)\n",
    "X_ans = df.drop(columns = ['num_sold']).values[len_data:]"
   ]
  },
  {
   "cell_type": "code",
   "execution_count": 280,
   "metadata": {},
   "outputs": [
    {
     "name": "stdout",
     "output_type": "stream",
     "text": [
      "[0]\ttrain-logloss:0.68451\tvalid-logloss:0.68456\n",
      "Multiple eval metrics have been passed: 'valid-logloss' will be used for early stopping.\n",
      "\n",
      "Will train until valid-logloss hasn't improved in 100 rounds.\n",
      "[10]\ttrain-logloss:0.60680\tvalid-logloss:0.60726\n",
      "[20]\ttrain-logloss:0.54213\tvalid-logloss:0.54295\n",
      "[30]\ttrain-logloss:0.48765\tvalid-logloss:0.48877\n",
      "[40]\ttrain-logloss:0.44131\tvalid-logloss:0.44272\n",
      "[50]\ttrain-logloss:0.40158\tvalid-logloss:0.40324\n",
      "[60]\ttrain-logloss:0.36726\tvalid-logloss:0.36911\n",
      "[70]\ttrain-logloss:0.33752\tvalid-logloss:0.33951\n",
      "[80]\ttrain-logloss:0.31160\tvalid-logloss:0.31378\n",
      "[90]\ttrain-logloss:0.28894\tvalid-logloss:0.29133\n",
      "[100]\ttrain-logloss:0.26909\tvalid-logloss:0.27166\n",
      "[110]\ttrain-logloss:0.25168\tvalid-logloss:0.25443\n",
      "[120]\ttrain-logloss:0.23634\tvalid-logloss:0.23929\n",
      "[130]\ttrain-logloss:0.22283\tvalid-logloss:0.22598\n",
      "[140]\ttrain-logloss:0.21090\tvalid-logloss:0.21425\n",
      "[150]\ttrain-logloss:0.20036\tvalid-logloss:0.20389\n",
      "[160]\ttrain-logloss:0.19103\tvalid-logloss:0.19470\n",
      "[170]\ttrain-logloss:0.18276\tvalid-logloss:0.18659\n",
      "[180]\ttrain-logloss:0.17542\tvalid-logloss:0.17942\n",
      "[190]\ttrain-logloss:0.16891\tvalid-logloss:0.17308\n",
      "[200]\ttrain-logloss:0.16315\tvalid-logloss:0.16748\n",
      "[210]\ttrain-logloss:0.15803\tvalid-logloss:0.16248\n",
      "[220]\ttrain-logloss:0.15350\tvalid-logloss:0.15806\n",
      "[230]\ttrain-logloss:0.14947\tvalid-logloss:0.15414\n",
      "[240]\ttrain-logloss:0.14591\tvalid-logloss:0.15069\n",
      "[250]\ttrain-logloss:0.14274\tvalid-logloss:0.14764\n",
      "[260]\ttrain-logloss:0.13992\tvalid-logloss:0.14497\n",
      "[270]\ttrain-logloss:0.13741\tvalid-logloss:0.14260\n",
      "[280]\ttrain-logloss:0.13519\tvalid-logloss:0.14050\n",
      "[290]\ttrain-logloss:0.13320\tvalid-logloss:0.13867\n",
      "[300]\ttrain-logloss:0.13144\tvalid-logloss:0.13706\n",
      "[310]\ttrain-logloss:0.12988\tvalid-logloss:0.13564\n",
      "[320]\ttrain-logloss:0.12850\tvalid-logloss:0.13440\n",
      "[330]\ttrain-logloss:0.12727\tvalid-logloss:0.13330\n",
      "[340]\ttrain-logloss:0.12619\tvalid-logloss:0.13232\n",
      "[350]\ttrain-logloss:0.12523\tvalid-logloss:0.13147\n",
      "[360]\ttrain-logloss:0.12437\tvalid-logloss:0.13072\n",
      "[370]\ttrain-logloss:0.12361\tvalid-logloss:0.13007\n",
      "[380]\ttrain-logloss:0.12294\tvalid-logloss:0.12951\n",
      "[390]\ttrain-logloss:0.12234\tvalid-logloss:0.12900\n",
      "[400]\ttrain-logloss:0.12179\tvalid-logloss:0.12857\n",
      "[410]\ttrain-logloss:0.12131\tvalid-logloss:0.12819\n",
      "[420]\ttrain-logloss:0.12088\tvalid-logloss:0.12785\n",
      "[430]\ttrain-logloss:0.12051\tvalid-logloss:0.12755\n",
      "[440]\ttrain-logloss:0.12017\tvalid-logloss:0.12730\n",
      "[450]\ttrain-logloss:0.11987\tvalid-logloss:0.12709\n",
      "[460]\ttrain-logloss:0.11960\tvalid-logloss:0.12692\n",
      "[470]\ttrain-logloss:0.11936\tvalid-logloss:0.12676\n",
      "[480]\ttrain-logloss:0.11915\tvalid-logloss:0.12662\n",
      "[490]\ttrain-logloss:0.11896\tvalid-logloss:0.12652\n",
      "[500]\ttrain-logloss:0.11878\tvalid-logloss:0.12643\n",
      "[510]\ttrain-logloss:0.11863\tvalid-logloss:0.12636\n",
      "[520]\ttrain-logloss:0.11849\tvalid-logloss:0.12630\n",
      "[530]\ttrain-logloss:0.11836\tvalid-logloss:0.12625\n",
      "[540]\ttrain-logloss:0.11825\tvalid-logloss:0.12621\n",
      "[550]\ttrain-logloss:0.11815\tvalid-logloss:0.12617\n",
      "[560]\ttrain-logloss:0.11805\tvalid-logloss:0.12615\n",
      "[570]\ttrain-logloss:0.11797\tvalid-logloss:0.12612\n",
      "[580]\ttrain-logloss:0.11789\tvalid-logloss:0.12609\n",
      "[590]\ttrain-logloss:0.11782\tvalid-logloss:0.12607\n",
      "[600]\ttrain-logloss:0.11775\tvalid-logloss:0.12604\n",
      "[610]\ttrain-logloss:0.11769\tvalid-logloss:0.12603\n",
      "[620]\ttrain-logloss:0.11763\tvalid-logloss:0.12601\n",
      "[630]\ttrain-logloss:0.11758\tvalid-logloss:0.12599\n",
      "[640]\ttrain-logloss:0.11752\tvalid-logloss:0.12598\n",
      "[650]\ttrain-logloss:0.11748\tvalid-logloss:0.12596\n",
      "[660]\ttrain-logloss:0.11743\tvalid-logloss:0.12595\n",
      "[670]\ttrain-logloss:0.11740\tvalid-logloss:0.12593\n",
      "[680]\ttrain-logloss:0.11736\tvalid-logloss:0.12592\n",
      "[690]\ttrain-logloss:0.11733\tvalid-logloss:0.12591\n",
      "[700]\ttrain-logloss:0.11730\tvalid-logloss:0.12590\n",
      "[710]\ttrain-logloss:0.11728\tvalid-logloss:0.12590\n",
      "[720]\ttrain-logloss:0.11725\tvalid-logloss:0.12589\n",
      "[730]\ttrain-logloss:0.11723\tvalid-logloss:0.12588\n",
      "[740]\ttrain-logloss:0.11720\tvalid-logloss:0.12588\n",
      "[750]\ttrain-logloss:0.11718\tvalid-logloss:0.12588\n",
      "[760]\ttrain-logloss:0.11716\tvalid-logloss:0.12589\n",
      "[770]\ttrain-logloss:0.11714\tvalid-logloss:0.12589\n",
      "[780]\ttrain-logloss:0.11712\tvalid-logloss:0.12590\n",
      "[790]\ttrain-logloss:0.11711\tvalid-logloss:0.12591\n",
      "[800]\ttrain-logloss:0.11709\tvalid-logloss:0.12591\n",
      "[810]\ttrain-logloss:0.11708\tvalid-logloss:0.12592\n",
      "[820]\ttrain-logloss:0.11706\tvalid-logloss:0.12593\n",
      "[830]\ttrain-logloss:0.11705\tvalid-logloss:0.12593\n",
      "Stopping. Best iteration:\n",
      "[734]\ttrain-logloss:0.11722\tvalid-logloss:0.12588\n",
      "\n"
     ]
    }
   ],
   "source": [
    "import xgboost\n",
    "params = {}\n",
    "params['objective'] = 'binary:logistic'\n",
    "params['eval_metric'] = 'logloss'\n",
    "params['eta'] = 0.04\n",
    "params['max_depth'] = 8\n",
    "params['learning_rate'] = 0.01\n",
    "\n",
    "d_train = xgboost.DMatrix(X_train, label=y_train)\n",
    "d_valid = xgboost.DMatrix(X_test, label=y_test)\n",
    "\n",
    "watchlist = [(d_train, 'train'), (d_valid, 'valid')]\n",
    "\n",
    "bst = xgboost.train(params, d_train, 1000, watchlist, early_stopping_rounds=100, verbose_eval=10)\n",
    "y_pred = bst.predict(xgboost.DMatrix(X_test))"
   ]
  },
  {
   "cell_type": "code",
   "execution_count": 281,
   "metadata": {},
   "outputs": [],
   "source": [
    "ans_pred1 = bst.predict(xgboost.DMatrix(X_ans))"
   ]
  },
  {
   "cell_type": "code",
   "execution_count": 282,
   "metadata": {},
   "outputs": [
    {
     "name": "stdout",
     "output_type": "stream",
     "text": [
      "3842/0.665\n"
     ]
    }
   ],
   "source": [
    "answer = df['num_sold'].values[len_data:]\n",
    "count = 0 \n",
    "for i in range(len(answer)):\n",
    "        if(abs(answer[i]-ans_pred1[i])<=result_baseline):\n",
    "            count += 1\n",
    "a = len(df['num_sold'][len_data:])\n",
    "print(str(len_data+200)+'/'+str(count/a))"
   ]
  },
  {
   "cell_type": "code",
   "execution_count": 178,
   "metadata": {},
   "outputs": [
    {
     "data": {
      "text/plain": [
       "2653.321804536972"
      ]
     },
     "execution_count": 178,
     "metadata": {},
     "output_type": "execute_result"
    }
   ],
   "source": [
    "ans_pred1.mean() * num_sold_max"
   ]
  },
  {
   "cell_type": "code",
   "execution_count": 768,
   "metadata": {},
   "outputs": [],
   "source": [
    "ans_pred2 = bst.predict(xgboost.DMatrix(x_final))"
   ]
  },
  {
   "cell_type": "code",
   "execution_count": 769,
   "metadata": {},
   "outputs": [
    {
     "data": {
      "text/plain": [
       "39.31785682588816"
      ]
     },
     "execution_count": 769,
     "metadata": {},
     "output_type": "execute_result"
    }
   ],
   "source": [
    "ans_pred2[0] * num_sold_max"
   ]
  },
  {
   "cell_type": "code",
   "execution_count": null,
   "metadata": {},
   "outputs": [],
   "source": []
  }
 ],
 "metadata": {
  "kernelspec": {
   "display_name": "Python 3",
   "language": "python",
   "name": "python3"
  },
  "language_info": {
   "codemirror_mode": {
    "name": "ipython",
    "version": 3
   },
   "file_extension": ".py",
   "mimetype": "text/x-python",
   "name": "python",
   "nbconvert_exporter": "python",
   "pygments_lexer": "ipython3",
   "version": "3.7.3"
  }
 },
 "nbformat": 4,
 "nbformat_minor": 2
}
